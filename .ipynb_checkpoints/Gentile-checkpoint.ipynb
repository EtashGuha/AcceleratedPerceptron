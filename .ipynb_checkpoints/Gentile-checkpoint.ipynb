{
 "cells": [
  {
   "cell_type": "code",
   "execution_count": 60,
   "id": "accessory-attachment",
   "metadata": {},
   "outputs": [],
   "source": [
    "import numpy as np\n",
    "from tqdm import tqdm\n",
    "from sklearn.linear_model import Perceptron\n",
    "import copy\n",
    "import math\n",
    "import cvxpy as cp"
   ]
  },
  {
   "cell_type": "code",
   "execution_count": 75,
   "id": "actual-runner",
   "metadata": {},
   "outputs": [],
   "source": [
    "class Gentile():\n",
    "    def __init__(self, p, alpha, B, C):\n",
    "        self.alpha = alpha\n",
    "        self.B = B\n",
    "        self.C = C\n",
    "        self.p = p\n",
    "        self.q = self.p/(self.p - 1)\n",
    "        \n",
    "    def solve(self, X, y):\n",
    "        dim = X.shape[1]\n",
    "        self.initialize(dim)\n",
    "        for idx in tqdm(range(10000)):\n",
    "            self.forward(X, y)\n",
    "            accuracy_metric = np.sum(y * (X @ self.weights) > 0)/X.shape[0]\n",
    "            if accuracy_metric == 1.0:\n",
    "                break\n",
    "        return self.weights, idx\n",
    "    \n",
    "\n",
    "    \n",
    "    \n",
    "    def initialize(self, dim):\n",
    "        self.weights = np.zeros(dim)\n",
    "        self.k = 1\n",
    "        \n",
    "    def forward(self, X, y):\n",
    "        self.gamma = self.B * np.sqrt(self.p - 1) * 1/np.sqrt(self.k)\n",
    "    \n",
    "        \n",
    "        for t in range(X.shape[0]):\n",
    "            if y[t] * np.dot(self.weights,X[t]) <= (1 - self.alpha) * self.gamma:\n",
    "                self.eta = self.C/np.sqrt(self.p - 1) * 1/np.sqrt(self.k)\n",
    "                w_prime = self.finv(self.f(self.weights)+ self.eta * y[t] * X[t])\n",
    "                q_norm = np.linalg.norm(w_prime, ord=self.q)\n",
    "                self.weights = w_prime/max(1, q_norm)\n",
    "                self.k += 1\n",
    "            \n",
    "                \n",
    "    def f(self, w):\n",
    "        numerator = np.sign(w) * np.power(abs(w), self.q - 1)\n",
    "        denominator = np.power(np.linalg.norm(w, ord=self.q), self.q - 2)\n",
    "        return numerator/denominator\n",
    "    \n",
    "    def finv(self, theta):\n",
    "        numerator = np.sign(theta) * np.power(abs(theta), self.p - 1)\n",
    "        denominator = np.power(np.linalg.norm(theta, ord=self.p), self.p - 2)\n",
    "        return numerator/denominator\n",
    "        \n",
    "    "
   ]
  },
  {
   "cell_type": "code",
   "execution_count": 76,
   "id": "shaped-probability",
   "metadata": {},
   "outputs": [],
   "source": [
    "def softmax(x):\n",
    "    \"\"\"Compute softmax values for each sets of scores in x.\"\"\"\n",
    "    e_x = np.exp(x - np.max(x))\n",
    "    return e_x / e_x.sum(axis=0) # only difference\n",
    "\n",
    "class Pnorm_accelerated():\n",
    "    def __init__(self, p):\n",
    "\n",
    "        self.p = p\n",
    "        self.q = p/(p-1)\n",
    "        self.eta_w = 1/(2 * self.q - 2)\n",
    "    \n",
    "    def initialize(self, X, y):\n",
    "        self.ws = np.array([])\n",
    "        self.probs = np.array([])\n",
    "        self.probs = np.append(self.probs, np.asarray([1] * X.shape[0])/X.shape[0])\n",
    "        self.probs = self.probs.reshape(1, X.shape[0])\n",
    "        \n",
    "    \n",
    "    def iterate(self, X, y):\n",
    "        self.initialize(X, y)\n",
    "        M = X * y[:, np.newaxis]\n",
    "        percent_accuracy = 0\n",
    "        for t in tqdm(range(1000), desc=\"Acc: {0:.3g}\".format(percent_accuracy)):\n",
    "            w = cp.Variable(len(X[0]))\n",
    "            banana = -1 * np.sum(self.probs @ M, axis=0) @ w + -1 * self.probs[-1] @ M @ w + self.eta_w/2 * cp.square(cp.atoms.pnorm(w))\n",
    "            problem = cp.Problem(cp.Minimize(banana) )\n",
    "            try:\n",
    "                problem.solve()\n",
    "            except:\n",
    "                problem.solve(solver=\"SCS\")\n",
    "            self.w = w.value\n",
    "            \n",
    "            if len(self.ws) == 0:\n",
    "                self.ws = np.asarray(self.w).reshape(1, X.shape[1])\n",
    "            else:\n",
    "                self.ws = np.vstack([self.ws, self.w.reshape(1, X.shape[1])])\n",
    "            \n",
    "            prob_weightings = -1/2 * np.sum(M @ self.ws.T, axis=1) - 1\n",
    "#             prob_weightings = prob_weightings/abs(np.sum(prob_weightings))\n",
    "            self.prob = softmax(-M@np.sum(self.ws,axis=0)/2 - 1)\n",
    "            self.probs = np.vstack([self.probs, self.prob.reshape(1, X.shape[0])])\n",
    "            if np.isnan(self.probs).any():\n",
    "                breakpoint()  \n",
    "            percent_accuracy = np.sum(M @ np.mean(pna.ws, axis=0).T > 0)/M.shape[0]\n",
    "            if((M @ np.mean(pna.ws, axis=0).T > 0).all()):\n",
    "                break\n",
    "                \n",
    "        return np.mean(pna.ws, axis=0), t"
   ]
  },
  {
   "cell_type": "code",
   "execution_count": 86,
   "id": "horizontal-threat",
   "metadata": {},
   "outputs": [],
   "source": [
    "def get_dataset_diff(dim):\n",
    "    n = 10\n",
    "    points = np.zeros((n,n))\n",
    "    labels = np.zeros(n)\n",
    "    for i in range(n):\n",
    "        points[i,:i] = (-1)**(i+1)\n",
    "        points[i,i] = (-1)**i\n",
    "    #     points[i,:] = points[i]/np.linalg.norm(points[i])\n",
    "        labels[i] = (-1)**i\n",
    "    return points, labels\n",
    "def get_dataset_easy(d):\n",
    "    margin = 0.01\n",
    "    n = 1000000\n",
    "    w = np.random.rand(d)*2-1\n",
    "    points = np.random.rand(n,d)-0.5\n",
    "    points = points/np.linalg.norm(points, axis=1, keepdims=True)\n",
    "    labels = np.sign(points@w+1e-32)[:,np.newaxis]\n",
    "        \n",
    "    # Preprocess for positive labels\n",
    "    points = points*labels\n",
    "    points = points[points@w>margin,:]\n",
    "    labels = np.ones(points.shape[0])\n",
    "    \n",
    "    return points, labels"
   ]
  },
  {
   "cell_type": "code",
   "execution_count": null,
   "id": "spatial-sphere",
   "metadata": {},
   "outputs": [],
   "source": []
  },
  {
   "cell_type": "code",
   "execution_count": null,
   "id": "solar-latvia",
   "metadata": {},
   "outputs": [
    {
     "name": "stderr",
     "output_type": "stream",
     "text": [
      "Acc: 0:   2%|▎         | 25/1000 [00:30<23:59,  1.48s/it]"
     ]
    }
   ],
   "source": [
    "X, y = get_dataset_easy(100)\n",
    "Xb, yb = get_dataset_diff(100)\n",
    "gentile = Gentile(3, .5, 1, 1)\n",
    "pna = Pnorm_accelerated(2)\n",
    "\n",
    "pna = Pnorm_accelerated(2)\n",
    "# X, y= get_dataset(100)\n",
    "M = X * y[:, np.newaxis]\n",
    "final_w_pna, pna_num_iter = pna.iterate(X, y)\n",
    "final_w_gentile, gentile_num_iter = gentile.solve(X, y)\n",
    "print('PNA: {}, Gentile: {}'.format(pna_num_iter, gentile_num_iter))\n",
    "\n",
    "breakpoint()\n",
    "\n"
   ]
  },
  {
   "cell_type": "code",
   "execution_count": 72,
   "id": "worthy-biography",
   "metadata": {},
   "outputs": [
    {
     "name": "stderr",
     "output_type": "stream",
     "text": [
      "  0%|          | 0/10000 [00:00<?, ?it/s]/Users/etashguha/anaconda3/envs/Research/lib/python3.7/site-packages/ipykernel_launcher.py:39: RuntimeWarning: divide by zero encountered in power\n",
      "100%|██████████| 10000/10000 [00:01<00:00, 5477.89it/s]\n",
      "/Users/etashguha/anaconda3/envs/Research/lib/python3.7/site-packages/ipykernel_launcher.py:7: VisibleDeprecationWarning: Creating an ndarray from ragged nested sequences (which is a list-or-tuple of lists-or-tuples-or ndarrays with different lengths or shapes) is deprecated. If you meant to do this, you must specify 'dtype=object' when creating the ndarray\n",
      "  import sys\n"
     ]
    },
    {
     "ename": "ValueError",
     "evalue": "matmul: Input operand 1 has a mismatch in its core dimension 0, with gufunc signature (n?,k),(k,m?)->(n?,m?) (size 2 is different from 100)",
     "output_type": "error",
     "traceback": [
      "\u001b[0;31m---------------------------------------------------------------------------\u001b[0m",
      "\u001b[0;31mValueError\u001b[0m                                Traceback (most recent call last)",
      "\u001b[0;32m<ipython-input-72-0e37b876bc0b>\u001b[0m in \u001b[0;36m<module>\u001b[0;34m\u001b[0m\n\u001b[1;32m      5\u001b[0m \u001b[0mX\u001b[0m\u001b[0;34m,\u001b[0m \u001b[0my\u001b[0m\u001b[0;34m=\u001b[0m \u001b[0mget_dataset\u001b[0m\u001b[0;34m(\u001b[0m\u001b[0mnum_examples\u001b[0m\u001b[0;34m)\u001b[0m\u001b[0;34m\u001b[0m\u001b[0;34m\u001b[0m\u001b[0m\n\u001b[1;32m      6\u001b[0m \u001b[0mfinal_weights\u001b[0m \u001b[0;34m=\u001b[0m \u001b[0mgentile\u001b[0m\u001b[0;34m.\u001b[0m\u001b[0msolve\u001b[0m\u001b[0;34m(\u001b[0m\u001b[0mX\u001b[0m\u001b[0;34m,\u001b[0m \u001b[0my\u001b[0m\u001b[0;34m)\u001b[0m\u001b[0;34m\u001b[0m\u001b[0;34m\u001b[0m\u001b[0m\n\u001b[0;32m----> 7\u001b[0;31m \u001b[0maccuracy_metric\u001b[0m \u001b[0;34m=\u001b[0m \u001b[0mnp\u001b[0m\u001b[0;34m.\u001b[0m\u001b[0msum\u001b[0m\u001b[0;34m(\u001b[0m\u001b[0my\u001b[0m \u001b[0;34m*\u001b[0m \u001b[0;34m(\u001b[0m\u001b[0mX\u001b[0m \u001b[0;34m@\u001b[0m \u001b[0mfinal_weights\u001b[0m\u001b[0;34m)\u001b[0m \u001b[0;34m>\u001b[0m \u001b[0;36m0\u001b[0m\u001b[0;34m)\u001b[0m\u001b[0;34m/\u001b[0m\u001b[0mX\u001b[0m\u001b[0;34m.\u001b[0m\u001b[0mshape\u001b[0m\u001b[0;34m[\u001b[0m\u001b[0;36m0\u001b[0m\u001b[0;34m]\u001b[0m\u001b[0;34m\u001b[0m\u001b[0;34m\u001b[0m\u001b[0m\n\u001b[0m\u001b[1;32m      8\u001b[0m \u001b[0mprint\u001b[0m\u001b[0;34m(\u001b[0m\u001b[0my\u001b[0m \u001b[0;34m*\u001b[0m \u001b[0mX\u001b[0m \u001b[0;34m@\u001b[0m \u001b[0mfinal_weights\u001b[0m\u001b[0;34m)\u001b[0m\u001b[0;34m\u001b[0m\u001b[0;34m\u001b[0m\u001b[0m\n\u001b[1;32m      9\u001b[0m \u001b[0mclf\u001b[0m \u001b[0;34m=\u001b[0m \u001b[0mPerceptron\u001b[0m\u001b[0;34m(\u001b[0m\u001b[0mtol\u001b[0m\u001b[0;34m=\u001b[0m\u001b[0;36m1e-3\u001b[0m\u001b[0;34m,\u001b[0m \u001b[0mrandom_state\u001b[0m\u001b[0;34m=\u001b[0m\u001b[0;36m0\u001b[0m\u001b[0;34m,\u001b[0m \u001b[0mfit_intercept\u001b[0m\u001b[0;34m=\u001b[0m\u001b[0;32mFalse\u001b[0m\u001b[0;34m)\u001b[0m\u001b[0;34m\u001b[0m\u001b[0;34m\u001b[0m\u001b[0m\n",
      "\u001b[0;31mValueError\u001b[0m: matmul: Input operand 1 has a mismatch in its core dimension 0, with gufunc signature (n?,k),(k,m?)->(n?,m?) (size 2 is different from 100)"
     ]
    }
   ],
   "source": [
    "num_examples = 100\n",
    "# dim = 5\n",
    "# X = np.random.rand(num_examples, dim)\n",
    "# y = np.random.choice([-1, 1], (num_examples))\n",
    "X, y= get_dataset(num_examples)\n",
    "final_weights = gentile.solve(X, y)\n",
    "accuracy_metric = np.sum(y * (X @ final_weights) > 0)/X.shape[0]\n",
    "print(y * X @ final_weights)\n",
    "clf = Perceptron(tol=1e-3, random_state=0, fit_intercept=False)\n",
    "clf.fit(X, y)\n",
    "breakpoint()\n",
    "accuracy_metric_scipy = y * np.squeeze(X @ clf.coef_.T)"
   ]
  },
  {
   "cell_type": "code",
   "execution_count": null,
   "id": "empirical-roulette",
   "metadata": {},
   "outputs": [],
   "source": []
  },
  {
   "cell_type": "code",
   "execution_count": null,
   "id": "advisory-transfer",
   "metadata": {},
   "outputs": [],
   "source": []
  }
 ],
 "metadata": {
  "kernelspec": {
   "display_name": "Python 3",
   "language": "python",
   "name": "python3"
  },
  "language_info": {
   "codemirror_mode": {
    "name": "ipython",
    "version": 3
   },
   "file_extension": ".py",
   "mimetype": "text/x-python",
   "name": "python",
   "nbconvert_exporter": "python",
   "pygments_lexer": "ipython3",
   "version": "3.7.7"
  }
 },
 "nbformat": 4,
 "nbformat_minor": 5
}
