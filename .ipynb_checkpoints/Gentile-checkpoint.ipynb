{
 "cells": [
  {
   "cell_type": "code",
   "execution_count": 1,
   "id": "ongoing-spending",
   "metadata": {},
   "outputs": [],
   "source": [
    "import numpy as np\n",
    "from tqdm import tqdm\n",
    "from sklearn.linear_model import Perceptron\n",
    "import copy\n",
    "import math"
   ]
  },
  {
   "cell_type": "code",
   "execution_count": 2,
   "id": "loaded-peace",
   "metadata": {},
   "outputs": [],
   "source": [
    "class Gentile():\n",
    "    def __init__(self, p, alpha, B, C):\n",
    "        self.alpha = alpha\n",
    "        self.B = B\n",
    "        self.C = C\n",
    "        self.p = p\n",
    "        self.q = self.p/(self.p - 1)\n",
    "        \n",
    "    def solve(self, X, y):\n",
    "        dim = X.shape[1]\n",
    "        self.initialize(dim)\n",
    "        for _ in range(1000):\n",
    "            self.forward(X, y)\n",
    "            accuracy_metric = np.sum(y * (X @ self.weights) > 0)/X.shape[0]\n",
    "            print(\"Accuracy: {}%\".format(accuracy_metric))\n",
    "        return self.weights\n",
    "    \n",
    "    def initialize(self, dim):\n",
    "        self.weights = np.zeros(dim)\n",
    "        self.k = 1\n",
    "        \n",
    "    def forward(self, X, y):\n",
    "        self.gamma = self.B * np.sqrt(self.p - 1) * 1/np.sqrt(self.k)\n",
    "    \n",
    "        \n",
    "        for t in range(X.shape[0]):\n",
    "            if y[t] * np.dot(self.weights,X[t]) <= (1 - self.alpha) * self.gamma:\n",
    "                self.eta = self.C/np.sqrt(self.p - 1) * 1/np.sqrt(self.k)\n",
    "                w_prime = self.finv(self.f(self.weights)+ self.eta * y[t] * X[t])\n",
    "                q_norm = np.linalg.norm(w_prime, ord=self.q)\n",
    "                self.weights = w_prime/max(1, q_norm)\n",
    "                self.k += 1\n",
    "            \n",
    "                \n",
    "    def f(self, w):\n",
    "        numerator = np.sign(w) * np.power(abs(w), self.q - 1)\n",
    "        denominator = np.power(np.linalg.norm(w, ord=self.q), self.q - 2)\n",
    "        return numerator/denominator\n",
    "    \n",
    "    def finv(self, theta):\n",
    "        numerator = np.sign(theta) * np.power(abs(theta), self.p - 1)\n",
    "        denominator = np.power(np.linalg.norm(theta, ord=self.p), self.p - 2)\n",
    "        return numerator/denominator\n",
    "        \n",
    "    "
   ]
  },
  {
   "cell_type": "code",
   "execution_count": 3,
   "id": "considerable-programming",
   "metadata": {},
   "outputs": [],
   "source": [
    "def get_dataset(dim):\n",
    "    X = []\n",
    "    y = []\n",
    "    for i in range(dim):\n",
    "        if len(X) == 0:\n",
    "            vec = [0] * dim\n",
    "            vec[0] = 1\n",
    "            X.append(np.asarray(vec))\n",
    "        else:\n",
    "            vec = math.pow(-1, i) * abs(copy.deepcopy(X[i-1]))\n",
    "            vec[i] = math.pow(-1, i+1)\n",
    "            X.append(np.asarray(vec))\n",
    "        y.append(math.pow(-1, i+1))\n",
    "    return np.asarray(X), np.asarray(y)"
   ]
  },
  {
   "cell_type": "code",
   "execution_count": null,
   "id": "billion-poster",
   "metadata": {},
   "outputs": [
    {
     "name": "stdout",
     "output_type": "stream",
     "text": [
      "--Return--\n",
      "None\n",
      "> \u001b[0;32m<ipython-input-4-0393e43f2b65>\u001b[0m(6)\u001b[0;36m<module>\u001b[0;34m()\u001b[0m\n",
      "\u001b[0;32m      4 \u001b[0;31m\u001b[0;31m# y = np.random.choice([-1, 1], (num_examples))\u001b[0m\u001b[0;34m\u001b[0m\u001b[0;34m\u001b[0m\u001b[0;34m\u001b[0m\u001b[0m\n",
      "\u001b[0m\u001b[0;32m      5 \u001b[0;31m\u001b[0mX\u001b[0m\u001b[0;34m,\u001b[0m \u001b[0my\u001b[0m\u001b[0;34m=\u001b[0m \u001b[0mget_dataset\u001b[0m\u001b[0;34m(\u001b[0m\u001b[0mnum_examples\u001b[0m\u001b[0;34m)\u001b[0m\u001b[0;34m\u001b[0m\u001b[0;34m\u001b[0m\u001b[0m\n",
      "\u001b[0m\u001b[0;32m----> 6 \u001b[0;31m\u001b[0mbreakpoint\u001b[0m\u001b[0;34m(\u001b[0m\u001b[0;34m)\u001b[0m\u001b[0;34m\u001b[0m\u001b[0;34m\u001b[0m\u001b[0m\n",
      "\u001b[0m\u001b[0;32m      7 \u001b[0;31m\u001b[0mgentile\u001b[0m \u001b[0;34m=\u001b[0m \u001b[0mGentile\u001b[0m\u001b[0;34m(\u001b[0m\u001b[0;36m3\u001b[0m\u001b[0;34m,\u001b[0m \u001b[0;36m.5\u001b[0m\u001b[0;34m,\u001b[0m \u001b[0;36m1\u001b[0m\u001b[0;34m,\u001b[0m \u001b[0;36m1\u001b[0m\u001b[0;34m)\u001b[0m\u001b[0;34m\u001b[0m\u001b[0;34m\u001b[0m\u001b[0m\n",
      "\u001b[0m\u001b[0;32m      8 \u001b[0;31m\u001b[0mfinal_weights\u001b[0m \u001b[0;34m=\u001b[0m \u001b[0mgentile\u001b[0m\u001b[0;34m.\u001b[0m\u001b[0msolve\u001b[0m\u001b[0;34m(\u001b[0m\u001b[0mX\u001b[0m\u001b[0;34m,\u001b[0m \u001b[0my\u001b[0m\u001b[0;34m)\u001b[0m\u001b[0;34m\u001b[0m\u001b[0;34m\u001b[0m\u001b[0m\n",
      "\u001b[0m\n"
     ]
    }
   ],
   "source": [
    "num_examples = 100\n",
    "# dim = 5\n",
    "# X = np.random.rand(num_examples, dim)\n",
    "# y = np.random.choice([-1, 1], (num_examples))\n",
    "X, y= get_dataset(num_examples)\n",
    "gentile = Gentile(3, .5, 1, 1)\n",
    "final_weights = gentile.solve(X, y)\n",
    "accuracy_metric = np.sum(y * (X @ final_weights) > 0)/X.shape[0]\n",
    "print(y * X @ final_weights)\n",
    "clf = Perceptron(tol=1e-3, random_state=0, fit_intercept=False)\n",
    "clf.fit(X, y)\n",
    "breakpoint()\n",
    "accuracy_metric_scipy = y * np.squeeze(X @ clf.coef_.T)"
   ]
  },
  {
   "cell_type": "code",
   "execution_count": null,
   "id": "scientific-paraguay",
   "metadata": {},
   "outputs": [],
   "source": []
  }
 ],
 "metadata": {
  "kernelspec": {
   "display_name": "Python 3",
   "language": "python",
   "name": "python3"
  },
  "language_info": {
   "codemirror_mode": {
    "name": "ipython",
    "version": 3
   },
   "file_extension": ".py",
   "mimetype": "text/x-python",
   "name": "python",
   "nbconvert_exporter": "python",
   "pygments_lexer": "ipython3",
   "version": "3.7.7"
  }
 },
 "nbformat": 4,
 "nbformat_minor": 5
}
