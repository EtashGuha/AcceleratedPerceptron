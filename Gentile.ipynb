{
 "cells": [
  {
   "cell_type": "code",
   "execution_count": 174,
   "id": "little-contact",
   "metadata": {},
   "outputs": [],
   "source": [
    "import numpy as np\n",
    "from tqdm import tqdm\n",
    "from sklearn.linear_model import Perceptron\n",
    "import copy\n",
    "import math\n",
    "import cvxpy as cp"
   ]
  },
  {
   "cell_type": "code",
   "execution_count": 175,
   "id": "olympic-posting",
   "metadata": {},
   "outputs": [],
   "source": [
    "class Gentile():\n",
    "    def __init__(self, p, alpha, B, C):\n",
    "        self.alpha = alpha\n",
    "        self.B = B\n",
    "        self.C = C\n",
    "        self.p = p\n",
    "        self.q = self.p/(self.p - 1)\n",
    "        \n",
    "    def solve(self, X, y):\n",
    "        dim = X.shape[1]\n",
    "        self.initialize(dim)\n",
    "        for _ in range(1000):\n",
    "            self.forward(X, y)\n",
    "            accuracy_metric = np.sum(y * (X @ self.weights) > 0)/X.shape[0]\n",
    "            print(\"Accuracy: {}%\".format(accuracy_metric))\n",
    "        return self.weights\n",
    "    \n",
    "    def initialize(self, dim):\n",
    "        self.weights = np.zeros(dim)\n",
    "        self.k = 1\n",
    "        \n",
    "    def forward(self, X, y):\n",
    "        self.gamma = self.B * np.sqrt(self.p - 1) * 1/np.sqrt(self.k)\n",
    "    \n",
    "        \n",
    "        for t in range(X.shape[0]):\n",
    "            if y[t] * np.dot(self.weights,X[t]) <= (1 - self.alpha) * self.gamma:\n",
    "                self.eta = self.C/np.sqrt(self.p - 1) * 1/np.sqrt(self.k)\n",
    "                w_prime = self.finv(self.f(self.weights)+ self.eta * y[t] * X[t])\n",
    "                q_norm = np.linalg.norm(w_prime, ord=self.q)\n",
    "                self.weights = w_prime/max(1, q_norm)\n",
    "                self.k += 1\n",
    "            \n",
    "                \n",
    "    def f(self, w):\n",
    "        numerator = np.sign(w) * np.power(abs(w), self.q - 1)\n",
    "        denominator = np.power(np.linalg.norm(w, ord=self.q), self.q - 2)\n",
    "        return numerator/denominator\n",
    "    \n",
    "    def finv(self, theta):\n",
    "        numerator = np.sign(theta) * np.power(abs(theta), self.p - 1)\n",
    "        denominator = np.power(np.linalg.norm(theta, ord=self.p), self.p - 2)\n",
    "        return numerator/denominator\n",
    "        \n",
    "    "
   ]
  },
  {
   "cell_type": "code",
   "execution_count": 176,
   "id": "purple-arlington",
   "metadata": {},
   "outputs": [],
   "source": [
    "def softmax(x):\n",
    "    \"\"\"Compute softmax values for each sets of scores in x.\"\"\"\n",
    "    e_x = np.exp(x - np.max(x))\n",
    "    return e_x / e_x.sum(axis=0) # only difference\n",
    "\n",
    "class Pnorm_accelerated():\n",
    "    def __init__(self, p):\n",
    "\n",
    "        self.p = p\n",
    "        self.q = p/(p-1)\n",
    "        self.eta_w = 1/(2 * self.q - 2)\n",
    "    \n",
    "    def initialize(self, X, y):\n",
    "        self.ws = np.array([])\n",
    "        self.probs = np.array([])\n",
    "        self.probs = np.append(self.probs, np.asarray([1] * X.shape[0])/X.shape[0])\n",
    "        self.probs = self.probs.reshape(1, X.shape[0])\n",
    "        \n",
    "    \n",
    "    def iterate(self, X, y):\n",
    "        self.initialize(X, y)\n",
    "        M = X * y[:, np.newaxis]\n",
    "        for t in tqdm(range(1000)):\n",
    "            w = cp.Variable(len(X[0]))\n",
    "            banana = -1 * np.sum(self.probs @ M, axis=0) @ w + -1 * self.probs[-1] @ M @ w + self.eta_w/2 * cp.square(cp.atoms.pnorm(w))\n",
    "            problem = cp.Problem(cp.Minimize(banana) )\n",
    "            try:\n",
    "                problem.solve()\n",
    "            except:\n",
    "                problem.solve(solver=\"SCS\")\n",
    "            self.w = w.value\n",
    "            \n",
    "            if len(self.ws) == 0:\n",
    "                self.ws = np.asarray(self.w).reshape(1, X.shape[0])\n",
    "            else:\n",
    "                self.ws = np.vstack([self.ws, self.w.reshape(1, X.shape[0])])\n",
    "            \n",
    "            prob_weightings = -1/2 * np.sum(M @ self.ws.T, axis=1) - 1\n",
    "            prob_weightings = prob_weightings/abs(np.sum(prob_weightings))\n",
    "            self.prob = softmax(prob_weightings)\n",
    "\n",
    "            self.probs = np.vstack([self.probs, self.prob.reshape(1, X.shape[0])])\n",
    "            if np.isnan(self.probs).any():\n",
    "                breakpoint()  \n",
    "                \n",
    "        return np.mean(pna.ws, axis=0)"
   ]
  },
  {
   "cell_type": "code",
   "execution_count": 177,
   "id": "recreational-trinidad",
   "metadata": {},
   "outputs": [],
   "source": [
    "def get_dataset(dim):\n",
    "    X = []\n",
    "    y = []\n",
    "    for i in range(dim):\n",
    "        if len(X) == 0:\n",
    "            vec = [0] * dim\n",
    "            vec[0] = 1\n",
    "            X.append(np.asarray(vec))\n",
    "        else:\n",
    "            vec = math.pow(-1, i) * abs(copy.deepcopy(X[i-1]))\n",
    "            vec[i] = math.pow(-1, i+1)\n",
    "            X.append(np.asarray(vec))\n",
    "        y.append(math.pow(-1, i+1))\n",
    "    return np.asarray(X), np.asarray(y)"
   ]
  },
  {
   "cell_type": "code",
   "execution_count": 178,
   "id": "neither-committee",
   "metadata": {},
   "outputs": [
    {
     "name": "stderr",
     "output_type": "stream",
     "text": [
      " 44%|████▍     | 442/1000 [01:35<02:00,  4.62it/s]\n"
     ]
    },
    {
     "ename": "AttributeError",
     "evalue": "'NoneType' object has no attribute 'reshape'",
     "output_type": "error",
     "traceback": [
      "\u001b[0;31m---------------------------------------------------------------------------\u001b[0m",
      "\u001b[0;31mAttributeError\u001b[0m                            Traceback (most recent call last)",
      "\u001b[0;32m<ipython-input-178-205a8dca5cd6>\u001b[0m in \u001b[0;36m<module>\u001b[0;34m\u001b[0m\n\u001b[1;32m      2\u001b[0m \u001b[0mX\u001b[0m\u001b[0;34m,\u001b[0m \u001b[0my\u001b[0m\u001b[0;34m=\u001b[0m \u001b[0mget_dataset\u001b[0m\u001b[0;34m(\u001b[0m\u001b[0mnum_examples\u001b[0m\u001b[0;34m)\u001b[0m\u001b[0;34m\u001b[0m\u001b[0;34m\u001b[0m\u001b[0m\n\u001b[1;32m      3\u001b[0m \u001b[0mM\u001b[0m \u001b[0;34m=\u001b[0m \u001b[0mX\u001b[0m \u001b[0;34m*\u001b[0m \u001b[0my\u001b[0m\u001b[0;34m[\u001b[0m\u001b[0;34m:\u001b[0m\u001b[0;34m,\u001b[0m \u001b[0mnp\u001b[0m\u001b[0;34m.\u001b[0m\u001b[0mnewaxis\u001b[0m\u001b[0;34m]\u001b[0m\u001b[0;34m\u001b[0m\u001b[0;34m\u001b[0m\u001b[0m\n\u001b[0;32m----> 4\u001b[0;31m \u001b[0mfinal_w\u001b[0m \u001b[0;34m=\u001b[0m \u001b[0mpna\u001b[0m\u001b[0;34m.\u001b[0m\u001b[0miterate\u001b[0m\u001b[0;34m(\u001b[0m\u001b[0mX\u001b[0m\u001b[0;34m,\u001b[0m \u001b[0my\u001b[0m\u001b[0;34m)\u001b[0m\u001b[0;34m\u001b[0m\u001b[0;34m\u001b[0m\u001b[0m\n\u001b[0m\u001b[1;32m      5\u001b[0m \u001b[0maccuracy\u001b[0m \u001b[0;34m=\u001b[0m \u001b[0mnp\u001b[0m\u001b[0;34m.\u001b[0m\u001b[0msum\u001b[0m\u001b[0;34m(\u001b[0m\u001b[0mM\u001b[0m \u001b[0;34m@\u001b[0m \u001b[0mfinal_w\u001b[0m \u001b[0;34m>\u001b[0m \u001b[0;36m0\u001b[0m\u001b[0;34m)\u001b[0m\u001b[0;34m/\u001b[0m\u001b[0mM\u001b[0m\u001b[0;34m.\u001b[0m\u001b[0mshape\u001b[0m\u001b[0;34m[\u001b[0m\u001b[0;36m0\u001b[0m\u001b[0;34m]\u001b[0m\u001b[0;34m\u001b[0m\u001b[0;34m\u001b[0m\u001b[0m\n\u001b[1;32m      6\u001b[0m \u001b[0mbreakpoint\u001b[0m\u001b[0;34m(\u001b[0m\u001b[0;34m)\u001b[0m\u001b[0;34m\u001b[0m\u001b[0;34m\u001b[0m\u001b[0m\n",
      "\u001b[0;32m<ipython-input-176-8161025834a6>\u001b[0m in \u001b[0;36miterate\u001b[0;34m(self, X, y)\u001b[0m\n\u001b[1;32m     34\u001b[0m                 \u001b[0mself\u001b[0m\u001b[0;34m.\u001b[0m\u001b[0mws\u001b[0m \u001b[0;34m=\u001b[0m \u001b[0mnp\u001b[0m\u001b[0;34m.\u001b[0m\u001b[0masarray\u001b[0m\u001b[0;34m(\u001b[0m\u001b[0mself\u001b[0m\u001b[0;34m.\u001b[0m\u001b[0mw\u001b[0m\u001b[0;34m)\u001b[0m\u001b[0;34m.\u001b[0m\u001b[0mreshape\u001b[0m\u001b[0;34m(\u001b[0m\u001b[0;36m1\u001b[0m\u001b[0;34m,\u001b[0m \u001b[0mX\u001b[0m\u001b[0;34m.\u001b[0m\u001b[0mshape\u001b[0m\u001b[0;34m[\u001b[0m\u001b[0;36m0\u001b[0m\u001b[0;34m]\u001b[0m\u001b[0;34m)\u001b[0m\u001b[0;34m\u001b[0m\u001b[0;34m\u001b[0m\u001b[0m\n\u001b[1;32m     35\u001b[0m             \u001b[0;32melse\u001b[0m\u001b[0;34m:\u001b[0m\u001b[0;34m\u001b[0m\u001b[0;34m\u001b[0m\u001b[0m\n\u001b[0;32m---> 36\u001b[0;31m                 \u001b[0mself\u001b[0m\u001b[0;34m.\u001b[0m\u001b[0mws\u001b[0m \u001b[0;34m=\u001b[0m \u001b[0mnp\u001b[0m\u001b[0;34m.\u001b[0m\u001b[0mvstack\u001b[0m\u001b[0;34m(\u001b[0m\u001b[0;34m[\u001b[0m\u001b[0mself\u001b[0m\u001b[0;34m.\u001b[0m\u001b[0mws\u001b[0m\u001b[0;34m,\u001b[0m \u001b[0mself\u001b[0m\u001b[0;34m.\u001b[0m\u001b[0mw\u001b[0m\u001b[0;34m.\u001b[0m\u001b[0mreshape\u001b[0m\u001b[0;34m(\u001b[0m\u001b[0;36m1\u001b[0m\u001b[0;34m,\u001b[0m \u001b[0mX\u001b[0m\u001b[0;34m.\u001b[0m\u001b[0mshape\u001b[0m\u001b[0;34m[\u001b[0m\u001b[0;36m0\u001b[0m\u001b[0;34m]\u001b[0m\u001b[0;34m)\u001b[0m\u001b[0;34m]\u001b[0m\u001b[0;34m)\u001b[0m\u001b[0;34m\u001b[0m\u001b[0;34m\u001b[0m\u001b[0m\n\u001b[0m\u001b[1;32m     37\u001b[0m \u001b[0;34m\u001b[0m\u001b[0m\n\u001b[1;32m     38\u001b[0m             \u001b[0mprob_weightings\u001b[0m \u001b[0;34m=\u001b[0m \u001b[0;34m-\u001b[0m\u001b[0;36m1\u001b[0m\u001b[0;34m/\u001b[0m\u001b[0;36m2\u001b[0m \u001b[0;34m*\u001b[0m \u001b[0mnp\u001b[0m\u001b[0;34m.\u001b[0m\u001b[0msum\u001b[0m\u001b[0;34m(\u001b[0m\u001b[0mM\u001b[0m \u001b[0;34m@\u001b[0m \u001b[0mself\u001b[0m\u001b[0;34m.\u001b[0m\u001b[0mws\u001b[0m\u001b[0;34m.\u001b[0m\u001b[0mT\u001b[0m\u001b[0;34m,\u001b[0m \u001b[0maxis\u001b[0m\u001b[0;34m=\u001b[0m\u001b[0;36m1\u001b[0m\u001b[0;34m)\u001b[0m \u001b[0;34m-\u001b[0m \u001b[0;36m1\u001b[0m\u001b[0;34m\u001b[0m\u001b[0;34m\u001b[0m\u001b[0m\n",
      "\u001b[0;31mAttributeError\u001b[0m: 'NoneType' object has no attribute 'reshape'"
     ]
    }
   ],
   "source": [
    "pna = Pnorm_accelerated(2)\n",
    "X, y= get_dataset(num_examples)\n",
    "M = X * y[:, np.newaxis]\n",
    "final_w = pna.iterate(X, y)\n",
    "accuracy = np.sum(M @ final_w > 0)/M.shape[0]\n",
    "breakpoint()\n",
    "\n",
    "\n"
   ]
  },
  {
   "cell_type": "code",
   "execution_count": null,
   "id": "artificial-automation",
   "metadata": {},
   "outputs": [],
   "source": [
    "num_examples = 100\n",
    "# dim = 5\n",
    "# X = np.random.rand(num_examples, dim)\n",
    "# y = np.random.choice([-1, 1], (num_examples))\n",
    "X, y= get_dataset(num_examples)\n",
    "gentile = Gentile(3, .5, 1, 1)\n",
    "final_weights = gentile.solve(X, y)\n",
    "accuracy_metric = np.sum(y * (X @ final_weights) > 0)/X.shape[0]\n",
    "print(y * X @ final_weights)\n",
    "clf = Perceptron(tol=1e-3, random_state=0, fit_intercept=False)\n",
    "clf.fit(X, y)\n",
    "breakpoint()\n",
    "accuracy_metric_scipy = y * np.squeeze(X @ clf.coef_.T)"
   ]
  },
  {
   "cell_type": "code",
   "execution_count": null,
   "id": "postal-wildlife",
   "metadata": {},
   "outputs": [],
   "source": []
  },
  {
   "cell_type": "code",
   "execution_count": null,
   "id": "completed-producer",
   "metadata": {},
   "outputs": [],
   "source": []
  }
 ],
 "metadata": {
  "kernelspec": {
   "display_name": "Python 3",
   "language": "python",
   "name": "python3"
  },
  "language_info": {
   "codemirror_mode": {
    "name": "ipython",
    "version": 3
   },
   "file_extension": ".py",
   "mimetype": "text/x-python",
   "name": "python",
   "nbconvert_exporter": "python",
   "pygments_lexer": "ipython3",
   "version": "3.7.7"
  }
 },
 "nbformat": 4,
 "nbformat_minor": 5
}
